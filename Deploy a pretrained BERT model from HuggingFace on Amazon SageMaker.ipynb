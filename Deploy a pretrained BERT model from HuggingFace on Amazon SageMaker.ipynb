{
 "cells": [
  {
   "cell_type": "code",
   "execution_count": 4,
   "id": "2d055ad4",
   "metadata": {},
   "outputs": [],
   "source": [
    "# !pip -q install huggingface transformers boto3"
   ]
  },
  {
   "cell_type": "code",
   "execution_count": 1,
   "id": "67d63ee4",
   "metadata": {},
   "outputs": [],
   "source": [
    "# !pip install aws_lambda_powertools"
   ]
  },
  {
   "cell_type": "code",
   "execution_count": 4,
   "id": "ecc38809",
   "metadata": {},
   "outputs": [
    {
     "name": "stdout",
     "output_type": "stream",
     "text": [
      "2.155.0\n"
     ]
    }
   ],
   "source": [
    "import sagemaker\n",
    "print(sagemaker.__version__)"
   ]
  },
  {
   "cell_type": "code",
   "execution_count": 5,
   "id": "c3ef02f6",
   "metadata": {},
   "outputs": [],
   "source": [
    "import os\n",
    "import sys\n",
    "import shutil\n",
    "import tarfile\n",
    "import argparse\n",
    "import boto3\n",
    "import torch"
   ]
  },
  {
   "cell_type": "code",
   "execution_count": 8,
   "id": "8aeb5932",
   "metadata": {},
   "outputs": [
    {
     "name": "stdout",
     "output_type": "stream",
     "text": [
      "OK\n"
     ]
    }
   ],
   "source": [
    "folder_name = \"Model_Folder\"\n",
    "try:\n",
    "    os.mkdir(folder_name)\n",
    "    print(\"OK\")\n",
    "except FileExistsError:\n",
    "    print(\"Folder already exists\")\n",
    "except OSError as e:\n",
    "    print(f\"Error creating directory: {e}\")\n"
   ]
  },
  {
   "cell_type": "code",
   "execution_count": 18,
   "id": "8fea4347",
   "metadata": {},
   "outputs": [],
   "source": [
    "def store_folder_files(source_folder, destination_folder):\n",
    "    # Get the list of files in the source folder\n",
    "    file_list = os.listdir(source_folder)\n",
    "\n",
    "    # Iterate over each file in the list\n",
    "    for file_name in file_list:\n",
    "        # Create the source file path\n",
    "        source_file_path = os.path.join(source_folder, file_name)\n",
    "\n",
    "        # Create the destination file path\n",
    "        destination_file_path = os.path.join(destination_folder, file_name)\n",
    "\n",
    "        # Copy the file from the source folder to the destination folder\n",
    "        shutil.copy2(source_file_path, destination_file_path)\n",
    "\n",
    "    # Print a success message\n",
    "    print(\"Files copied successfully!\")"
   ]
  },
  {
   "cell_type": "code",
   "execution_count": 19,
   "id": "ef1bd61c",
   "metadata": {},
   "outputs": [
    {
     "name": "stdout",
     "output_type": "stream",
     "text": [
      "Files copied successfully!\n"
     ]
    }
   ],
   "source": [
    "store_folder_files('BERT_MODEL', 'Model_Folder')"
   ]
  },
  {
   "cell_type": "code",
   "execution_count": 20,
   "id": "fdf060ab",
   "metadata": {},
   "outputs": [
    {
     "name": "stdout",
     "output_type": "stream",
     "text": [
      "Files copied successfully!\n"
     ]
    }
   ],
   "source": [
    "store_folder_files('tokenizer', 'Model_Folder')"
   ]
  },
  {
   "cell_type": "code",
   "execution_count": 21,
   "id": "a7262398",
   "metadata": {},
   "outputs": [],
   "source": [
    "def compress(tar_dir=None, output_file=\"model.tar.gz\"):\n",
    "    with tarfile.open(output_file, \"w:gz\") as tar:\n",
    "        tar.add(tar_dir, arcname=os.path.sep)"
   ]
  },
  {
   "cell_type": "code",
   "execution_count": null,
   "id": "c0f8cad5",
   "metadata": {},
   "outputs": [],
   "source": [
    "# boto3.Session().resource('s3').Bucket(bucket_name).Object(os.path.join(prefix, 'train/train.csv')).upload_file('train.csv')"
   ]
  },
  {
   "cell_type": "code",
   "execution_count": 5,
   "id": "fe30d2a1",
   "metadata": {},
   "outputs": [],
   "source": [
    "def upload_file_to_s3(bucket_name=None, file_name=\"model.tar.gz\", key_prefix=\"\"):\n",
    "    s3 = boto3.resource(\"s3\")\n",
    "    key_prefix_with_file_name = os.path.join(key_prefix, file_name)\n",
    "    s3.Bucket(bucket_name).upload_file(file_name, key_prefix_with_file_name)\n",
    "    return f\"s3://{bucket_name}/{key_prefix_with_file_name}\""
   ]
  },
  {
   "cell_type": "code",
   "execution_count": 6,
   "id": "c3f35a88",
   "metadata": {},
   "outputs": [
    {
     "name": "stderr",
     "output_type": "stream",
     "text": [
      "Matplotlib is building the font cache; this may take a moment.\n"
     ]
    }
   ],
   "source": [
    "# import libraries\n",
    "import boto3, re, sys, math, json, os, sagemaker, urllib.request\n",
    "from sagemaker import get_execution_role\n",
    "import numpy as np\n",
    "import pandas as pd\n",
    "import matplotlib.pyplot as plt\n",
    "from IPython.display import Image\n",
    "from IPython.display import display\n",
    "from time import gmtime, strftime\n",
    "# from sagemaker.predictor import csv_serializer\n",
    "\n",
    "# Define IAM role\n",
    "role = get_execution_role()\n",
    "prefix = 'ai-title-docs-model'\n",
    "my_region = boto3.session.Session().region_name # set the region of the instance"
   ]
  },
  {
   "cell_type": "code",
   "execution_count": 4,
   "id": "3d098258",
   "metadata": {},
   "outputs": [
    {
     "name": "stdout",
     "output_type": "stream",
     "text": [
      "eu-north-1\n"
     ]
    }
   ],
   "source": [
    "bucket_name = 'documentapplication' # <--- CHANGE THIS VARIABLE TO A UNIQUE NAME FOR YOUR BUCKET\n",
    "print(my_region)"
   ]
  },
  {
   "cell_type": "code",
   "execution_count": 26,
   "id": "1770951b",
   "metadata": {},
   "outputs": [
    {
     "name": "stdout",
     "output_type": "stream",
     "text": [
      "Bucket already exists\n"
     ]
    }
   ],
   "source": [
    "from botocore.exceptions import ClientError\n",
    "\n",
    "s3 = boto3.resource('s3')\n",
    "# Check if the bucket already exists\n",
    "try:\n",
    "    s3.Bucket(bucket_name).load()\n",
    "    print('Bucket already exists')\n",
    "except ClientError as e:\n",
    "    # If the bucket does not exist, create it with the specified region\n",
    "    if e.response['Error']['Code'] == \"404\":\n",
    "        try:\n",
    "            s3.create_bucket(Bucket=bucket_name, CreateBucketConfiguration={'LocationConstraint': my_region})\n",
    "            print('Bucket created successfully')\n",
    "        except Exception as e:\n",
    "            print('S3 error: ', e)\n",
    "    else:\n",
    "        print('S3 error: ', e)"
   ]
  },
  {
   "cell_type": "code",
   "execution_count": 27,
   "id": "571da544",
   "metadata": {},
   "outputs": [
    {
     "name": "stdout",
     "output_type": "stream",
     "text": [
      "creating `model.tar.gz` archive\n"
     ]
    }
   ],
   "source": [
    "# create archive\n",
    "print(\"creating `model.tar.gz` archive\")\n",
    "compress(folder_name)"
   ]
  },
  {
   "cell_type": "code",
   "execution_count": 29,
   "id": "fc512cef",
   "metadata": {},
   "outputs": [
    {
     "name": "stdout",
     "output_type": "stream",
     "text": [
      "uploading `model.tar.gz` archive to s3\n",
      "Successfully uploaded to s3://documentapplication/ai-title-docs-model/model.tar.gz\n"
     ]
    }
   ],
   "source": [
    "\n",
    "# upload to s3\n",
    "print(\n",
    "    f\"uploading `model.tar.gz` archive to s3\"\n",
    ")\n",
    "\n",
    "model_uri = upload_file_to_s3(bucket_name=bucket_name, \n",
    "                              key_prefix=prefix,\n",
    "                              )\n",
    "\n",
    "print(f\"Successfully uploaded to {model_uri}\")"
   ]
  },
  {
   "cell_type": "code",
   "execution_count": 31,
   "id": "76b5a3c3",
   "metadata": {},
   "outputs": [
    {
     "data": {
      "text/plain": [
       "'s3://documentapplication/ai-title-docs-model/model.tar.gz'"
      ]
     },
     "execution_count": 31,
     "metadata": {},
     "output_type": "execute_result"
    }
   ],
   "source": [
    "model_uri"
   ]
  },
  {
   "cell_type": "code",
   "execution_count": 7,
   "id": "70214b05",
   "metadata": {},
   "outputs": [],
   "source": [
    "from sagemaker.huggingface.model import HuggingFaceModel"
   ]
  },
  {
   "cell_type": "code",
   "execution_count": null,
   "id": "858aecf0",
   "metadata": {},
   "outputs": [
    {
     "name": "stdout",
     "output_type": "stream",
     "text": [
      "--"
     ]
    }
   ],
   "source": [
    "# create Hugging Face Model Class\n",
    "huggingface_model = HuggingFaceModel(\n",
    "   model_data=\"s3://documentapplication/ai-title-docs-model/model.tar.gz\",  # path to your trained SageMaker model\n",
    "   role=role,                                            # IAM role with permissions to create an endpoint\n",
    "   transformers_version=\"4.26\",                           # Transformers version used\n",
    "   pytorch_version=\"1.13\",                                # PyTorch version used\n",
    "   py_version='py39',                                    # Python version used\n",
    ")\n",
    "\n",
    "# deploy model to SageMaker Inference\n",
    "predictor = huggingface_model.deploy(\n",
    "   initial_instance_count=1,\n",
    "   instance_type=\"ml.c5.xlarge\"\n",
    ")"
   ]
  },
  {
   "cell_type": "code",
   "execution_count": null,
   "id": "4d9a01d1",
   "metadata": {},
   "outputs": [],
   "source": [
    "import re"
   ]
  },
  {
   "cell_type": "code",
   "execution_count": null,
   "id": "e6f931ba",
   "metadata": {},
   "outputs": [],
   "source": [
    "class CleanText:\n",
    "  def __init__(self) -> None:\n",
    "     pass\n",
    "  # Define cleaning function\n",
    "  def clean_text(self, text):\n",
    "    # Define regex patterns\n",
    "      punct_pattern = r'[^\\w\\s]'\n",
    "      num_pattern = r'\\d+'\n",
    "      special_pattern = r'[^A-Za-z0-9\\s]'\n",
    "\n",
    "      text = re.sub(r'\\\\n|\\n', ' ', text)\n",
    "      # remove links\n",
    "      text = re.sub(r\"http\\S+\", \"\", text)\n",
    "      text = re.sub(r'\\x00|\\\\x00', '', text)\n",
    "      # Convert to lowercase\n",
    "      text = text.lower()\n",
    "      # Remove punctuation\n",
    "      text = re.sub(punct_pattern, '', text)\n",
    "      # Remove integers\n",
    "      text = re.sub(num_pattern, '', text)\n",
    "      # Remove special characters\n",
    "      text = re.sub(special_pattern, '', text)\n",
    "      # Remove extra whitespace\n",
    "      text = re.sub('\\s+', ' ', text).strip()\n",
    "      # Remove nextline\n",
    "      text = re.sub(r'\\n', ' ', text)\n",
    "      # Remove words with length 1\n",
    "      text = ' '.join(word for word in text.split() if len(word) > 2)\n",
    "      # Remove stop words\n",
    "      # Get stop words for a specific language (e.g., English)\n",
    "      stop_words = {'some', 'itself', 'these', 'isn', 'over', 'o', 'doesn', 'hadn', \"she's\", 'same', 'yourselves', 'had', 'why', 'so', 'she', \"doesn't\", 'nor', \"hasn't\", \"it's\", 'they', 'have', 'her', 'can', 'ain', 'against', 'ma', 'be', 'was', 'very', 'mightn', 'because', 'don', 'whom', 'needn', 'who', 'but', \"you'd\", 'which', 'being', 'both', 'just', 'won', 'are', 'am', 'below', 'does', 'on', 'y', 'here', 'herself', 'each', 'hasn', 'our', 'down', 'haven', \"didn't\", 'too', 'as', 'above', 'more', 'shouldn', \"weren't\", 'your', \"haven't\", \"wasn't\", 'were', 'theirs', 'from', 'once', 'or', \"mustn't\", 'a', \"mightn't\", 'do', \"you've\", 'by', 'with', 'his', 'own', 'other', 'doing', 'in', 'd', 'few', 'should', 'you', 'most', 'those', 'where', 'through', 'further', 'will', 'my', 'him', 'during', 're', 'ourselves', 've', 'about', 'out', 'before', 'mustn', 'now', 'an', \"that'll\", 'hers', 'how', 'until', 'after', 'didn', 'again', 'this', 'then', 'yourself', 'has', 'yours', 'having', 'under', 'themselves', 'm', \"wouldn't\", 'weren', 'did', 's', \"you're\", 'the', 't', 'up', 'all', 'and', 'at', 'll', 'me', 'into', 'he', 'is', 'to', 'only', 'i', 'when', 'of', \"shan't\", 'what', 'them', \"aren't\", 'ours', 'wasn', \"don't\", 'couldn', \"you'll\", 'off', 'than', 'its', 'between', \"couldn't\", \"hadn't\", 'shan', 'if', 'wouldn', 'for', 'we', \"won't\", 'been', 'their', 'not', 'there', 'no', 'such', 'myself', \"shouldn't\", 'himself', \"needn't\", 'any', \"isn't\", 'that', \"should've\", 'it', 'while', 'aren'}\n",
    "      text = ' '.join(word for word in text.split() if word not in stop_words)\n",
    "      return text"
   ]
  },
  {
   "cell_type": "code",
   "execution_count": null,
   "id": "9a05080d",
   "metadata": {},
   "outputs": [],
   "source": [
    "cls = CleanText()\n",
    "ctext = cls.clean_text(text)\n",
    "prepare_text = \"<start> \" + ctext + \" <end>\"\n",
    "prepare_text"
   ]
  },
  {
   "cell_type": "code",
   "execution_count": null,
   "id": "1e3f523a",
   "metadata": {},
   "outputs": [],
   "source": [
    "data = {\n",
    "    'inputs':prepare_text,\n",
    "}\n",
    "# request\n",
    "predictor.predict(data)"
   ]
  },
  {
   "cell_type": "code",
   "execution_count": 60,
   "id": "f5806cc5",
   "metadata": {},
   "outputs": [
    {
     "data": {
      "text/plain": [
       "'LABEL_1'"
      ]
     },
     "execution_count": 60,
     "metadata": {},
     "output_type": "execute_result"
    }
   ],
   "source": [
    "predictor.predict(data)[0]['label']"
   ]
  },
  {
   "cell_type": "code",
   "execution_count": 62,
   "id": "2bc183a0",
   "metadata": {},
   "outputs": [],
   "source": [
    "# predictor.delete_endpoint(delete_endpoint_config=True)"
   ]
  },
  {
   "cell_type": "code",
   "execution_count": 12,
   "id": "021c1e2f",
   "metadata": {},
   "outputs": [],
   "source": [
    "import boto3\n",
    "\n",
    "# Create an Amazon SageMaker client\n",
    "sm_client = boto3.client('sagemaker')\n",
    "\n",
    "# # Get the list of available instance types\n",
    "# response = sm_client.describe_notebook_instance_types()\n",
    "\n",
    "# # Iterate through the instance types and check if GPU is available\n",
    "# for instance_type in response['NotebookInstanceTypes']:\n",
    "#     if 'AcceleratorTypes' in instance_type:\n",
    "#         for accelerator in instance_type['AcceleratorTypes']:\n",
    "#             if accelerator['Type'] == 'ml.p3':\n",
    "#                 print(f\"GPU-based instance type: {instance_type['Name']}\")\n"
   ]
  },
  {
   "cell_type": "code",
   "execution_count": 13,
   "id": "687089c6",
   "metadata": {},
   "outputs": [
    {
     "data": {
      "text/plain": [
       "<bound method ClientCreator._create_api_method.<locals>._api_call of <botocore.client.SageMaker object at 0x7fee1d7a9840>>"
      ]
     },
     "execution_count": 13,
     "metadata": {},
     "output_type": "execute_result"
    }
   ],
   "source": [
    "sm_client."
   ]
  },
  {
   "cell_type": "code",
   "execution_count": null,
   "id": "ec3c0198",
   "metadata": {},
   "outputs": [],
   "source": []
  }
 ],
 "metadata": {
  "kernelspec": {
   "display_name": "conda_pytorch_p310",
   "language": "python",
   "name": "conda_pytorch_p310"
  },
  "language_info": {
   "codemirror_mode": {
    "name": "ipython",
    "version": 3
   },
   "file_extension": ".py",
   "mimetype": "text/x-python",
   "name": "python",
   "nbconvert_exporter": "python",
   "pygments_lexer": "ipython3",
   "version": "3.10.10"
  }
 },
 "nbformat": 4,
 "nbformat_minor": 5
}
